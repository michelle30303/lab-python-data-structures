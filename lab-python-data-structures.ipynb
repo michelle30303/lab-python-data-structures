{
 "cells": [
  {
   "cell_type": "markdown",
   "metadata": {
    "tags": []
   },
   "source": [
    "# Lab | Data Structures "
   ]
  },
  {
   "cell_type": "code",
   "execution_count": null,
   "metadata": {},
   "outputs": [],
   "source": []
  },
  {
   "cell_type": "markdown",
   "metadata": {},
   "source": [
    "## Exercise: Managing Customer Orders\n",
    "\n",
    "As part of a business venture, you are starting an online store that sells various products. To ensure smooth operations, you need to develop a program that manages customer orders and inventory.\n",
    "\n",
    "Follow the steps below to complete the exercise:\n",
    "\n",
    "1. Define a list called `products` that contains the following items: \"t-shirt\", \"mug\", \"hat\", \"book\", \"keychain\".\n",
    "\n",
    "2. Create an empty dictionary called `inventory`.\n",
    "\n",
    "3. Ask the user to input the quantity of each product available in the inventory. Use the product names from the `products` list as keys in the `inventory` dictionary and assign the respective quantities as values.\n",
    "\n",
    "4. Create an empty set called `customer_orders`.\n",
    "\n",
    "5. Ask the user to input the name of three products that a customer wants to order (from those in the products list, meaning three products out of \"t-shirt\", \"mug\", \"hat\", \"book\" or \"keychain\". Add each product name to the `customer_orders` set.\n",
    "\n",
    "6. Print the products in the `customer_orders` set.\n",
    "\n",
    "7. Calculate the following order statistics:\n",
    "   - Total Products Ordered: The total number of products in the `customer_orders` set.\n",
    "   - Percentage of Products Ordered: The percentage of products ordered compared to the total available products.\n",
    "   \n",
    "   Store these statistics in a tuple called `order_status`.\n",
    "\n",
    "8. Print the order statistics using the following format:\n",
    "   ```\n",
    "   Order Statistics:\n",
    "   Total Products Ordered: <total_products_ordered>\n",
    "   Percentage of Products Ordered: <percentage_ordered>% \n",
    "   ```\n",
    "\n",
    "9. Update the inventory by subtracting 1 from the quantity of each product. Modify the `inventory` dictionary accordingly.\n",
    "\n",
    "10. Print the updated inventory, displaying the quantity of each product on separate lines.\n",
    "\n",
    "Solve the exercise by implementing the steps using the Python concepts of lists, dictionaries, sets, and basic input/output operations. "
   ]
  },
  {
   "cell_type": "code",
   "execution_count": null,
   "metadata": {},
   "outputs": [],
   "source": [
    "\n",
    "products = [\"t-shirt\", \"mug\", \"hat\", \"book\", \"keychain\"]\n",
    "\n",
    "for product in products:\n",
    "\n",
    "    quantity = int(input(f\"Insert the quantity for {product}: \"))\n",
    "   \n",
    "    inventory[product] = quantity\n",
    "   \n",
    "    customer_orders = set()\n",
    "\n",
    "    for order in orders:\n",
    "   \n",
    "    order = order.strip()\n",
    "    \n",
    "    if order in products:\n",
    "       \n",
    "        customer_orders.add(order)\n",
    "    else:\n",
    "        print(f\"{order} is not in the list of available products. It will not be added to the order.\")\n",
    "\n",
    "\n",
    "print(\"Products in the customer orders:\", customer_orders)\n",
    "\n",
    "total_products_ordered = len(customer_orders)\n",
    "\n",
    "total_products_available = len(products)\n",
    "\n",
    "percentage_ordered = (total_products_ordered / total_products_available) * 100\n",
    "\n",
    "order_status = (total_products_ordered, percentage_ordered)\n",
    "\n",
    "\n",
    "print(f\"Total Products Ordered: {order_status[0]}\")\n",
    "\n",
    "print(f\"Percentage of Products Ordered: {order_status[1]:.2f}%\")\n"
   ]
  },
  {
   "cell_type": "code",
   "execution_count": 1,
   "metadata": {},
   "outputs": [
    {
     "name": "stdout",
     "output_type": "stream",
     "text": [
      "Please enter the names of three products you want to order from the following list:\n",
      "['t-shirt', 'mug', 'hat', 'book', 'keychain']\n",
      "Products in the customer orders: {'keychain', 'mug', 'book'}\n",
      "Total Products Ordered: 3\n",
      "Percentage of Products Ordered: 60.00%\n"
     ]
    }
   ],
   "source": [
    "products = [\"t-shirt\", \"mug\", \"hat\", \"book\", \"keychain\"]\n",
    "\n",
    "inventory = {}\n",
    "\n",
    "for product in products:\n",
    "    quantity = int(input(f\"Enter the quantity for {product}: \"))\n",
    "    inventory[product] = quantity\n",
    "\n",
    "customer_orders = set()\n",
    "\n",
    "print(\"Please enter the names of three products you want to order from the following list:\")\n",
    "print(products)\n",
    "orders = input(\"Enter the names of three products, separated by commas: \").split(\",\")\n",
    "\n",
    "for order in orders:\n",
    "    order = order.strip()\n",
    "    if order in products:\n",
    "        customer_orders.add(order)\n",
    "    else:\n",
    "        print(f\"{order} is not in the list of available products. It will not be added to the order.\")\n",
    "\n",
    "print(\"Products in the customer orders:\", customer_orders)\n",
    "\n",
    "total_products_ordered = len(customer_orders)\n",
    "total_products_available = len(products)\n",
    "percentage_ordered = (total_products_ordered / total_products_available) * 100\n",
    "\n",
    "order_status = (total_products_ordered, percentage_ordered)\n",
    "\n",
    "print(f\"Total Products Ordered: {order_status[0]}\")\n",
    "print(f\"Percentage of Products Ordered: {order_status[1]:.2f}%\")\n"
   ]
  }
 ],
 "metadata": {
  "kernelspec": {
   "display_name": "Python 3 (ipykernel)",
   "language": "python",
   "name": "python3"
  },
  "language_info": {
   "codemirror_mode": {
    "name": "ipython",
    "version": 3
   },
   "file_extension": ".py",
   "mimetype": "text/x-python",
   "name": "python",
   "nbconvert_exporter": "python",
   "pygments_lexer": "ipython3",
   "version": "3.11.7"
  }
 },
 "nbformat": 4,
 "nbformat_minor": 4
}
